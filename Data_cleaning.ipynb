{
  "nbformat": 4,
  "nbformat_minor": 0,
  "metadata": {
    "colab": {
      "provenance": []
    },
    "kernelspec": {
      "name": "python3",
      "display_name": "Python 3"
    },
    "language_info": {
      "name": "python"
    }
  },
  "cells": [
    {
      "cell_type": "code",
      "execution_count": null,
      "metadata": {
        "id": "WB98tzoBXZbF"
      },
      "outputs": [],
      "source": [
        "import numpy as np\n",
        "import pandas as pd\n",
        "import matplotlib.pyplot as plt"
      ]
    },
    {
      "cell_type": "code",
      "source": [
        "df = pd.read_csv(\"/content/glassdoor_jobs.csv\")\n",
        "df = df.drop(\"Unnamed: 0\", axis=1)\n",
        "df.replace(-1, np.nan, inplace=True)\n",
        "df.replace(\"-1\", np.nan, inplace=True)"
      ],
      "metadata": {
        "id": "5jJyaTrNXi0b"
      },
      "execution_count": null,
      "outputs": []
    },
    {
      "cell_type": "code",
      "source": [
        "df.head()"
      ],
      "metadata": {
        "id": "KyRyHsOWXru5",
        "outputId": "575940ea-f7f6-4416-ebb2-c27cb303bc63",
        "colab": {
          "base_uri": "https://localhost:8080/",
          "height": 565
        }
      },
      "execution_count": null,
      "outputs": [
        {
          "output_type": "execute_result",
          "data": {
            "text/plain": [
              "                   Job Title              Salary Estimate  \\\n",
              "0             Data Scientist   $53K-$91K (Glassdoor est.)   \n",
              "1  Healthcare Data Scientist  $63K-$112K (Glassdoor est.)   \n",
              "2             Data Scientist   $80K-$90K (Glassdoor est.)   \n",
              "3             Data Scientist   $56K-$97K (Glassdoor est.)   \n",
              "4             Data Scientist  $86K-$143K (Glassdoor est.)   \n",
              "\n",
              "                                     Job Description  Rating  \\\n",
              "0  Data Scientist\\nLocation: Albuquerque, NM\\nEdu...     3.8   \n",
              "1  What You Will Do:\\n\\nI. General Summary\\n\\nThe...     3.4   \n",
              "2  KnowBe4, Inc. is a high growth information sec...     4.8   \n",
              "3  *Organization and Job ID**\\nJob ID: 310709\\n\\n...     3.8   \n",
              "4  Data Scientist\\nAffinity Solutions / Marketing...     2.9   \n",
              "\n",
              "                                 Company Name         Location  \\\n",
              "0                      Tecolote Research\\n3.8  Albuquerque, NM   \n",
              "1  University of Maryland Medical System\\n3.4    Linthicum, MD   \n",
              "2                                KnowBe4\\n4.8   Clearwater, FL   \n",
              "3                                   PNNL\\n3.8     Richland, WA   \n",
              "4                     Affinity Solutions\\n2.9     New York, NY   \n",
              "\n",
              "     Headquarters                    Size  Founded   Type of ownership  \\\n",
              "0      Goleta, CA   501 to 1000 employees   1973.0   Company - Private   \n",
              "1   Baltimore, MD        10000+ employees   1984.0  Other Organization   \n",
              "2  Clearwater, FL   501 to 1000 employees   2010.0   Company - Private   \n",
              "3    Richland, WA  1001 to 5000 employees   1965.0          Government   \n",
              "4    New York, NY     51 to 200 employees   1998.0   Company - Private   \n",
              "\n",
              "                           Industry                        Sector  \\\n",
              "0               Aerospace & Defense           Aerospace & Defense   \n",
              "1  Health Care Services & Hospitals                   Health Care   \n",
              "2                 Security Services             Business Services   \n",
              "3                            Energy  Oil, Gas, Energy & Utilities   \n",
              "4           Advertising & Marketing             Business Services   \n",
              "\n",
              "                            Revenue  \\\n",
              "0         $50 to $100 million (USD)   \n",
              "1            $2 to $5 billion (USD)   \n",
              "2        $100 to $500 million (USD)   \n",
              "3  $500 million to $1 billion (USD)   \n",
              "4          Unknown / Non-Applicable   \n",
              "\n",
              "                                         Competitors  \n",
              "0                                                NaN  \n",
              "1                                                NaN  \n",
              "2                                                NaN  \n",
              "3  Oak Ridge National Laboratory, National Renewa...  \n",
              "4               Commerce Signals, Cardlytics, Yodlee  "
            ],
            "text/html": [
              "\n",
              "  <div id=\"df-a0389745-9c61-4d53-855c-848a2ffae20c\">\n",
              "    <div class=\"colab-df-container\">\n",
              "      <div>\n",
              "<style scoped>\n",
              "    .dataframe tbody tr th:only-of-type {\n",
              "        vertical-align: middle;\n",
              "    }\n",
              "\n",
              "    .dataframe tbody tr th {\n",
              "        vertical-align: top;\n",
              "    }\n",
              "\n",
              "    .dataframe thead th {\n",
              "        text-align: right;\n",
              "    }\n",
              "</style>\n",
              "<table border=\"1\" class=\"dataframe\">\n",
              "  <thead>\n",
              "    <tr style=\"text-align: right;\">\n",
              "      <th></th>\n",
              "      <th>Job Title</th>\n",
              "      <th>Salary Estimate</th>\n",
              "      <th>Job Description</th>\n",
              "      <th>Rating</th>\n",
              "      <th>Company Name</th>\n",
              "      <th>Location</th>\n",
              "      <th>Headquarters</th>\n",
              "      <th>Size</th>\n",
              "      <th>Founded</th>\n",
              "      <th>Type of ownership</th>\n",
              "      <th>Industry</th>\n",
              "      <th>Sector</th>\n",
              "      <th>Revenue</th>\n",
              "      <th>Competitors</th>\n",
              "    </tr>\n",
              "  </thead>\n",
              "  <tbody>\n",
              "    <tr>\n",
              "      <th>0</th>\n",
              "      <td>Data Scientist</td>\n",
              "      <td>$53K-$91K (Glassdoor est.)</td>\n",
              "      <td>Data Scientist\\nLocation: Albuquerque, NM\\nEdu...</td>\n",
              "      <td>3.8</td>\n",
              "      <td>Tecolote Research\\n3.8</td>\n",
              "      <td>Albuquerque, NM</td>\n",
              "      <td>Goleta, CA</td>\n",
              "      <td>501 to 1000 employees</td>\n",
              "      <td>1973.0</td>\n",
              "      <td>Company - Private</td>\n",
              "      <td>Aerospace &amp; Defense</td>\n",
              "      <td>Aerospace &amp; Defense</td>\n",
              "      <td>$50 to $100 million (USD)</td>\n",
              "      <td>NaN</td>\n",
              "    </tr>\n",
              "    <tr>\n",
              "      <th>1</th>\n",
              "      <td>Healthcare Data Scientist</td>\n",
              "      <td>$63K-$112K (Glassdoor est.)</td>\n",
              "      <td>What You Will Do:\\n\\nI. General Summary\\n\\nThe...</td>\n",
              "      <td>3.4</td>\n",
              "      <td>University of Maryland Medical System\\n3.4</td>\n",
              "      <td>Linthicum, MD</td>\n",
              "      <td>Baltimore, MD</td>\n",
              "      <td>10000+ employees</td>\n",
              "      <td>1984.0</td>\n",
              "      <td>Other Organization</td>\n",
              "      <td>Health Care Services &amp; Hospitals</td>\n",
              "      <td>Health Care</td>\n",
              "      <td>$2 to $5 billion (USD)</td>\n",
              "      <td>NaN</td>\n",
              "    </tr>\n",
              "    <tr>\n",
              "      <th>2</th>\n",
              "      <td>Data Scientist</td>\n",
              "      <td>$80K-$90K (Glassdoor est.)</td>\n",
              "      <td>KnowBe4, Inc. is a high growth information sec...</td>\n",
              "      <td>4.8</td>\n",
              "      <td>KnowBe4\\n4.8</td>\n",
              "      <td>Clearwater, FL</td>\n",
              "      <td>Clearwater, FL</td>\n",
              "      <td>501 to 1000 employees</td>\n",
              "      <td>2010.0</td>\n",
              "      <td>Company - Private</td>\n",
              "      <td>Security Services</td>\n",
              "      <td>Business Services</td>\n",
              "      <td>$100 to $500 million (USD)</td>\n",
              "      <td>NaN</td>\n",
              "    </tr>\n",
              "    <tr>\n",
              "      <th>3</th>\n",
              "      <td>Data Scientist</td>\n",
              "      <td>$56K-$97K (Glassdoor est.)</td>\n",
              "      <td>*Organization and Job ID**\\nJob ID: 310709\\n\\n...</td>\n",
              "      <td>3.8</td>\n",
              "      <td>PNNL\\n3.8</td>\n",
              "      <td>Richland, WA</td>\n",
              "      <td>Richland, WA</td>\n",
              "      <td>1001 to 5000 employees</td>\n",
              "      <td>1965.0</td>\n",
              "      <td>Government</td>\n",
              "      <td>Energy</td>\n",
              "      <td>Oil, Gas, Energy &amp; Utilities</td>\n",
              "      <td>$500 million to $1 billion (USD)</td>\n",
              "      <td>Oak Ridge National Laboratory, National Renewa...</td>\n",
              "    </tr>\n",
              "    <tr>\n",
              "      <th>4</th>\n",
              "      <td>Data Scientist</td>\n",
              "      <td>$86K-$143K (Glassdoor est.)</td>\n",
              "      <td>Data Scientist\\nAffinity Solutions / Marketing...</td>\n",
              "      <td>2.9</td>\n",
              "      <td>Affinity Solutions\\n2.9</td>\n",
              "      <td>New York, NY</td>\n",
              "      <td>New York, NY</td>\n",
              "      <td>51 to 200 employees</td>\n",
              "      <td>1998.0</td>\n",
              "      <td>Company - Private</td>\n",
              "      <td>Advertising &amp; Marketing</td>\n",
              "      <td>Business Services</td>\n",
              "      <td>Unknown / Non-Applicable</td>\n",
              "      <td>Commerce Signals, Cardlytics, Yodlee</td>\n",
              "    </tr>\n",
              "  </tbody>\n",
              "</table>\n",
              "</div>\n",
              "      <button class=\"colab-df-convert\" onclick=\"convertToInteractive('df-a0389745-9c61-4d53-855c-848a2ffae20c')\"\n",
              "              title=\"Convert this dataframe to an interactive table.\"\n",
              "              style=\"display:none;\">\n",
              "        \n",
              "  <svg xmlns=\"http://www.w3.org/2000/svg\" height=\"24px\"viewBox=\"0 0 24 24\"\n",
              "       width=\"24px\">\n",
              "    <path d=\"M0 0h24v24H0V0z\" fill=\"none\"/>\n",
              "    <path d=\"M18.56 5.44l.94 2.06.94-2.06 2.06-.94-2.06-.94-.94-2.06-.94 2.06-2.06.94zm-11 1L8.5 8.5l.94-2.06 2.06-.94-2.06-.94L8.5 2.5l-.94 2.06-2.06.94zm10 10l.94 2.06.94-2.06 2.06-.94-2.06-.94-.94-2.06-.94 2.06-2.06.94z\"/><path d=\"M17.41 7.96l-1.37-1.37c-.4-.4-.92-.59-1.43-.59-.52 0-1.04.2-1.43.59L10.3 9.45l-7.72 7.72c-.78.78-.78 2.05 0 2.83L4 21.41c.39.39.9.59 1.41.59.51 0 1.02-.2 1.41-.59l7.78-7.78 2.81-2.81c.8-.78.8-2.07 0-2.86zM5.41 20L4 18.59l7.72-7.72 1.47 1.35L5.41 20z\"/>\n",
              "  </svg>\n",
              "      </button>\n",
              "      \n",
              "  <style>\n",
              "    .colab-df-container {\n",
              "      display:flex;\n",
              "      flex-wrap:wrap;\n",
              "      gap: 12px;\n",
              "    }\n",
              "\n",
              "    .colab-df-convert {\n",
              "      background-color: #E8F0FE;\n",
              "      border: none;\n",
              "      border-radius: 50%;\n",
              "      cursor: pointer;\n",
              "      display: none;\n",
              "      fill: #1967D2;\n",
              "      height: 32px;\n",
              "      padding: 0 0 0 0;\n",
              "      width: 32px;\n",
              "    }\n",
              "\n",
              "    .colab-df-convert:hover {\n",
              "      background-color: #E2EBFA;\n",
              "      box-shadow: 0px 1px 2px rgba(60, 64, 67, 0.3), 0px 1px 3px 1px rgba(60, 64, 67, 0.15);\n",
              "      fill: #174EA6;\n",
              "    }\n",
              "\n",
              "    [theme=dark] .colab-df-convert {\n",
              "      background-color: #3B4455;\n",
              "      fill: #D2E3FC;\n",
              "    }\n",
              "\n",
              "    [theme=dark] .colab-df-convert:hover {\n",
              "      background-color: #434B5C;\n",
              "      box-shadow: 0px 1px 3px 1px rgba(0, 0, 0, 0.15);\n",
              "      filter: drop-shadow(0px 1px 2px rgba(0, 0, 0, 0.3));\n",
              "      fill: #FFFFFF;\n",
              "    }\n",
              "  </style>\n",
              "\n",
              "      <script>\n",
              "        const buttonEl =\n",
              "          document.querySelector('#df-a0389745-9c61-4d53-855c-848a2ffae20c button.colab-df-convert');\n",
              "        buttonEl.style.display =\n",
              "          google.colab.kernel.accessAllowed ? 'block' : 'none';\n",
              "\n",
              "        async function convertToInteractive(key) {\n",
              "          const element = document.querySelector('#df-a0389745-9c61-4d53-855c-848a2ffae20c');\n",
              "          const dataTable =\n",
              "            await google.colab.kernel.invokeFunction('convertToInteractive',\n",
              "                                                     [key], {});\n",
              "          if (!dataTable) return;\n",
              "\n",
              "          const docLinkHtml = 'Like what you see? Visit the ' +\n",
              "            '<a target=\"_blank\" href=https://colab.research.google.com/notebooks/data_table.ipynb>data table notebook</a>'\n",
              "            + ' to learn more about interactive tables.';\n",
              "          element.innerHTML = '';\n",
              "          dataTable['output_type'] = 'display_data';\n",
              "          await google.colab.output.renderOutput(dataTable, element);\n",
              "          const docLink = document.createElement('div');\n",
              "          docLink.innerHTML = docLinkHtml;\n",
              "          element.appendChild(docLink);\n",
              "        }\n",
              "      </script>\n",
              "    </div>\n",
              "  </div>\n",
              "  "
            ]
          },
          "metadata": {},
          "execution_count": 5
        }
      ]
    },
    {
      "cell_type": "code",
      "source": [
        "#Salary parsing\n",
        "df = df.dropna(axis=0, subset=[\"Salary Estimate\"])\n",
        "df[\"hourly\"] = df[\"Salary Estimate\"].apply(lambda x: 1 if \"per hour\" in x.lower() else 0)\n",
        "\n",
        "salary = df[\"Salary Estimate\"].apply(lambda x: x.split(\"(\")[0])\n",
        "salary_range = salary.apply(lambda x: x.replace(\"K\", \"\").replace(\"$\", \"\"))\n",
        "salary_range = salary_range.apply(lambda x: x.lower().replace(\"per hour\", \"\").replace(\"employer provided salary:\", \"\"))\n",
        "\n",
        "# get min and max salary\n",
        "df[\"min_salary\"] = salary_range.apply(lambda x: float(x.split(\"-\")[0]))\n",
        "df[\"max_salary\"] = salary_range.apply(lambda x: float(x.split(\"-\")[1]))\n",
        "\n",
        "# convert hourly salary to anual one\n",
        "# note 8(hours) x 5(days per week) x 52(weeks per year) = 2080\n",
        "df[\"min_salary\"] = df.apply(lambda x: x[\"min_salary\"]*2.08 if x[\"hourly\"] else x[\"min_salary\"], axis=1)\n",
        "df[\"max_salary\"] = df.apply(lambda x: x[\"max_salary\"]*2.08 if x[\"hourly\"] else x[\"max_salary\"], axis=1)\n",
        "\n",
        "df[\"avr_salary\"] = (df[\"min_salary\"] + df[\"max_salary\"])/2"
      ],
      "metadata": {
        "id": "0IQc3brmXsXz"
      },
      "execution_count": null,
      "outputs": []
    },
    {
      "cell_type": "code",
      "source": [
        "#Company name without rating\n",
        "df[\"company_txt\"] = df.apply(lambda x: x[\"Company Name\"] if x[\"Rating\"]==1 else x[\"Company Name\"][:-3], axis=1)\n",
        "df[\"company_txt\"] = df[\"company_txt\"].apply(lambda x: x.replace(\"\\n\", ''))\n",
        "df[\"company_txt\"].nunique()"
      ],
      "metadata": {
        "colab": {
          "base_uri": "https://localhost:8080/"
        },
        "id": "Vb_K-SZ99zVk",
        "outputId": "d070e118-d413-41d4-d506-c76f14a27c2d"
      },
      "execution_count": null,
      "outputs": [
        {
          "output_type": "execute_result",
          "data": {
            "text/plain": [
              "343"
            ]
          },
          "metadata": {},
          "execution_count": 7
        }
      ]
    },
    {
      "cell_type": "code",
      "source": [
        "# company age\n",
        "df[\"age\"] = 2023-df[\"Founded\"]"
      ],
      "metadata": {
        "id": "-D17YQQQxE6f"
      },
      "execution_count": null,
      "outputs": []
    },
    {
      "cell_type": "code",
      "source": [
        "#State field\n",
        "df[\"job_state\"] = df[\"Location\"].apply(lambda x: x.split(\",\")[1])\n",
        "df[\"job_state\"] = df[\"job_state\"].apply(lambda x: x.strip() if x.strip().lower() != \"los angeles\" else \"CA\")\n",
        "df[\"same_state\"] = df[\"Location\"] == df[\"Headquarters\"]\n",
        "\n",
        "df[\"job_state\"].value_counts()"
      ],
      "metadata": {
        "colab": {
          "base_uri": "https://localhost:8080/"
        },
        "id": "pL47OX4L-ldn",
        "outputId": "81ad3d38-2fb9-42b0-c446-067a0fca69c1"
      },
      "execution_count": null,
      "outputs": [
        {
          "output_type": "execute_result",
          "data": {
            "text/plain": [
              "CA    152\n",
              "MA    103\n",
              "NY     72\n",
              "VA     41\n",
              "IL     40\n",
              "MD     35\n",
              "PA     33\n",
              "TX     28\n",
              "NC     21\n",
              "WA     21\n",
              "NJ     17\n",
              "FL     16\n",
              "OH     14\n",
              "TN     13\n",
              "DC     11\n",
              "CO     11\n",
              "WI     10\n",
              "UT     10\n",
              "IN     10\n",
              "AZ      9\n",
              "MO      9\n",
              "AL      8\n",
              "GA      6\n",
              "DE      6\n",
              "KY      6\n",
              "MI      6\n",
              "CT      5\n",
              "IA      5\n",
              "LA      4\n",
              "OR      4\n",
              "NE      4\n",
              "NM      3\n",
              "KS      3\n",
              "ID      2\n",
              "MN      2\n",
              "RI      1\n",
              "SC      1\n",
              "Name: job_state, dtype: int64"
            ]
          },
          "metadata": {},
          "execution_count": 9
        }
      ]
    },
    {
      "cell_type": "code",
      "source": [
        "#Required tools from job description\n",
        "# python\n",
        "# r-studio\n",
        "# excel\n",
        "# sql\n",
        "\n",
        "df[\"Job Description\"][0]"
      ],
      "metadata": {
        "colab": {
          "base_uri": "https://localhost:8080/",
          "height": 157
        },
        "id": "6ckVUybNDtuV",
        "outputId": "7cd3d4c6-2530-4bde-9149-8d072591e1a2"
      },
      "execution_count": null,
      "outputs": [
        {
          "output_type": "execute_result",
          "data": {
            "text/plain": [
              "'Data Scientist\\nLocation: Albuquerque, NM\\nEducation Required: Bachelor’s degree required, preferably in math, engineering, business, or the sciences.\\nSkills Required:\\nBachelor’s Degree in relevant field, e.g., math, data analysis, database, computer science, Artificial Intelligence (AI); three years’ experience credit for Master’s degree; five years’ experience credit for a Ph.D\\nApplicant should be proficient in the use of Power BI, Tableau, Python, MATLAB, Microsoft Word, PowerPoint, Excel, and working knowledge of MS Access, LMS, SAS, data visualization tools, and have a strong algorithmic aptitude\\nExcellent verbal and written communication skills, and quantitative analytical skills are required\\nApplicant must be able to work in a team environment\\nU.S. citizenship and ability to obtain a DoD Secret Clearance required\\nResponsibilities: The applicant will be responsible for formulating analytical solutions to complex data problems; creating data analytic models to improve data metrics; analyzing customer behavior and trends; delivering insights to stakeholders, as well as designing and crafting reports, dashboards, models, and algorithms to make data insights actionable; selecting features, building and optimizing classifiers using machine learning techniques; data mining using state-of-the-art methods, extending organization’s data with third party sources of information when needed; enhancing data collection procedures to include information that is relevant for building analytic systems; processing, cleansing, and verifying the integrity of data used for analysis; doing ad-hoc analysis and presenting results in a clear manner; and creating automated anomaly detection systems and constant tracking of its performance.\\nBenefits:\\nWe offer competitive salaries commensurate with education and experience. We have an excellent benefits package that includes:\\nComprehensive health, dental, life, long and short term disability insurance\\n100% Company funded Retirement Plans\\nGenerous vacation, holiday and sick pay plans\\nTuition assistance\\n\\nBenefits are provided to employees regularly working a minimum of 30 hours per week.\\n\\nTecolote Research is a private, employee-owned corporation where people are our primary resource. Our investments in technology and training give our employees the tools to ensure our clients are provided the solutions they need, and our very high employee retention rate and stable workforce is an added value to our customers. Apply now to connect with a company that invests in you.'"
            ],
            "application/vnd.google.colaboratory.intrinsic+json": {
              "type": "string"
            }
          },
          "metadata": {},
          "execution_count": 10
        }
      ]
    },
    {
      "cell_type": "code",
      "source": [
        "df[\"python_yn\"] = df[\"Job Description\"].apply(lambda x: \"python\" in x.lower())\n",
        "df[\"python_yn\"].value_counts()"
      ],
      "metadata": {
        "colab": {
          "base_uri": "https://localhost:8080/"
        },
        "id": "Fy5bhnHoGUqz",
        "outputId": "ac94eb79-2546-44db-f933-51c3e3e89e7d"
      },
      "execution_count": null,
      "outputs": [
        {
          "output_type": "execute_result",
          "data": {
            "text/plain": [
              "True     392\n",
              "False    350\n",
              "Name: python_yn, dtype: int64"
            ]
          },
          "metadata": {},
          "execution_count": 11
        }
      ]
    },
    {
      "cell_type": "code",
      "source": [
        "df[\"R_yn\"] = df[\"Job Description\"].apply(lambda x: \"r studio\" in x.lower() or \"r-studio\" in x.lower())\n",
        "df[\"R_yn\"].value_counts()"
      ],
      "metadata": {
        "colab": {
          "base_uri": "https://localhost:8080/"
        },
        "id": "_vAP8uYVHAzt",
        "outputId": "9b42030f-0670-4d31-e317-088de6d8a3b1"
      },
      "execution_count": null,
      "outputs": [
        {
          "output_type": "execute_result",
          "data": {
            "text/plain": [
              "False    740\n",
              "True       2\n",
              "Name: R_yn, dtype: int64"
            ]
          },
          "metadata": {},
          "execution_count": 12
        }
      ]
    },
    {
      "cell_type": "code",
      "source": [
        "df[\"sql_yn\"] = df[\"Job Description\"].apply(lambda x: \"sql\" in x.lower())\n",
        "df[\"sql_yn\"].value_counts()"
      ],
      "metadata": {
        "colab": {
          "base_uri": "https://localhost:8080/"
        },
        "id": "LVxgLCPGHOKv",
        "outputId": "552fa1b5-6398-4c9f-8634-bf866dd52e69"
      },
      "execution_count": null,
      "outputs": [
        {
          "output_type": "execute_result",
          "data": {
            "text/plain": [
              "True     380\n",
              "False    362\n",
              "Name: sql_yn, dtype: int64"
            ]
          },
          "metadata": {},
          "execution_count": 13
        }
      ]
    },
    {
      "cell_type": "code",
      "source": [
        "df[\"excel_yn\"] = df[\"Job Description\"].apply(lambda x: \"excel\" in x.lower())\n",
        "df[\"excel_yn\"].value_counts()"
      ],
      "metadata": {
        "colab": {
          "base_uri": "https://localhost:8080/"
        },
        "id": "X5OHafPrHdRy",
        "outputId": "90d5a836-3f0e-434d-bb4c-45d9badde427"
      },
      "execution_count": null,
      "outputs": [
        {
          "output_type": "execute_result",
          "data": {
            "text/plain": [
              "True     388\n",
              "False    354\n",
              "Name: excel_yn, dtype: int64"
            ]
          },
          "metadata": {},
          "execution_count": 14
        }
      ]
    },
    {
      "cell_type": "code",
      "source": [
        "# Title parsing, get title and seniority\n",
        "def title_parse(title):\n",
        "  if \"data scientist\" in title.lower() or \"data science\" in title.lower():\n",
        "    return \"data scientist\"\n",
        "  elif \"data analyst\" in title.lower() or \"data analysis\" in title.lower():\n",
        "    return \"data analyst\"\n",
        "  elif \"data engineer\" in title.lower():\n",
        "    return \"data engineer\"\n",
        "  elif \"machine learning\" in title.lower():\n",
        "    return \"machine learning\"\n",
        "  elif \"manager\" in title.lower():\n",
        "    return \"manager\"\n",
        "  elif \"director\" in title.lower():\n",
        "    return \"director\"\n",
        "  return \"na\"\n",
        "\n",
        "df[\"job_title\"]=df[\"Job Title\"].apply(title_parse)\n",
        "df[\"job_title\"].value_counts()"
      ],
      "metadata": {
        "colab": {
          "base_uri": "https://localhost:8080/"
        },
        "id": "niLd7pqsHkVd",
        "outputId": "2d141c99-dd3d-4e96-fe9b-1857efd246c6"
      },
      "execution_count": null,
      "outputs": [
        {
          "output_type": "execute_result",
          "data": {
            "text/plain": [
              "data scientist      313\n",
              "na                  167\n",
              "data engineer       119\n",
              "data analyst        100\n",
              "machine learning     22\n",
              "manager              16\n",
              "director              5\n",
              "Name: job_title, dtype: int64"
            ]
          },
          "metadata": {},
          "execution_count": 15
        }
      ]
    },
    {
      "cell_type": "code",
      "source": [
        "def seniority_parse(title):\n",
        "  if \"sr\" in title.lower() or \"senior\" in title.lower() or \"lead\" in title.lower() or \"principal\" in title.lower():\n",
        "    return \"senior\"\n",
        "  elif \"middle\" in title.lower():\n",
        "    return \"junior\"\n",
        "  elif \"jr\" in title.lower() or \"junior\" in title.lower():\n",
        "    return \"junior\"\n",
        "  return \"na\"\n",
        "\n",
        "df[\"seniority\"]=df[\"Job Title\"].apply(seniority_parse)\n",
        "df[\"seniority\"].value_counts()"
      ],
      "metadata": {
        "colab": {
          "base_uri": "https://localhost:8080/"
        },
        "id": "ySOP8MvkcMGM",
        "outputId": "be78471f-20c8-43fa-8089-f49fef3077ce"
      },
      "execution_count": null,
      "outputs": [
        {
          "output_type": "execute_result",
          "data": {
            "text/plain": [
              "na        519\n",
              "senior    220\n",
              "junior      3\n",
              "Name: seniority, dtype: int64"
            ]
          },
          "metadata": {},
          "execution_count": 16
        }
      ]
    },
    {
      "cell_type": "code",
      "source": [
        "# Description length\n",
        "df[\"desc_len\"] = df[\"Job Description\"].apply(lambda x: len(x.split()))\n",
        "df[\"desc_len\"]"
      ],
      "metadata": {
        "colab": {
          "base_uri": "https://localhost:8080/"
        },
        "id": "K8nfztzVf5lf",
        "outputId": "62bc2dc2-b439-41cc-fde4-a17238e7b087"
      },
      "execution_count": null,
      "outputs": [
        {
          "output_type": "execute_result",
          "data": {
            "text/plain": [
              "0      354\n",
              "1      671\n",
              "2      490\n",
              "3      516\n",
              "4      378\n",
              "      ... \n",
              "950    871\n",
              "951    877\n",
              "952    421\n",
              "953    221\n",
              "955    522\n",
              "Name: desc_len, Length: 742, dtype: int64"
            ]
          },
          "metadata": {},
          "execution_count": 17
        }
      ]
    },
    {
      "cell_type": "code",
      "source": [
        "#Competitors number\n",
        "df[\"num_comp\"] = df[\"Competitors\"].apply(lambda x: len(x.split(',')) if not pd.isna(x) else 0)\n",
        "df[\"num_comp\"].value_counts()"
      ],
      "metadata": {
        "colab": {
          "base_uri": "https://localhost:8080/"
        },
        "id": "R0kP7CQsigZP",
        "outputId": "a3986554-8b78-4cd1-9749-e2c7a000140f"
      },
      "execution_count": null,
      "outputs": [
        {
          "output_type": "execute_result",
          "data": {
            "text/plain": [
              "0    460\n",
              "3    228\n",
              "2     41\n",
              "1     12\n",
              "4      1\n",
              "Name: num_comp, dtype: int64"
            ]
          },
          "metadata": {},
          "execution_count": 18
        }
      ]
    },
    {
      "cell_type": "code",
      "source": [
        "# employees number\n",
        "def employees_num(size):\n",
        "  \"\"\"\n",
        "  Size is taken from our data frame and is one of two formats:\n",
        "  - '501 to 1000 employees'\n",
        "  - 10000+ employees\n",
        "  \"\"\"\n",
        "  if pd.isna(size) or \"unknown\" in size.lower():\n",
        "    return pd.NA\n",
        "  elif \"to\" in size:\n",
        "    num1, num2 = size.split()[0], size.split()[2]\n",
        "    return (int(num1) + int(num2))/2\n",
        "  else:\n",
        "    return int(size.split(\"+\")[0])\n",
        "\n",
        "#df[\"Size\"].value_counts()\n",
        "df[\"employees_num\"] = df[\"Size\"].apply(employees_num)\n",
        "df[\"employees_num\"].value_counts()"
      ],
      "metadata": {
        "colab": {
          "base_uri": "https://localhost:8080/"
        },
        "id": "Qr7Rfl8yq-wl",
        "outputId": "a9b94bd8-9cc9-45b5-84d7-8e8f4b475bdd"
      },
      "execution_count": null,
      "outputs": [
        {
          "output_type": "execute_result",
          "data": {
            "text/plain": [
              "3000.5     150\n",
              "750.5      134\n",
              "10000.0    130\n",
              "350.5      117\n",
              "125.5       94\n",
              "7500.5      76\n",
              "25.5        31\n",
              "Name: employees_num, dtype: int64"
            ]
          },
          "metadata": {},
          "execution_count": 19
        }
      ]
    },
    {
      "cell_type": "code",
      "source": [
        "#revenue amount\n",
        "\n",
        "def get_revenue(revenue):\n",
        "  \"\"\"\n",
        "  $10+ billion (USD) is taken from our data frame and is one of three formats:\n",
        "  - $25 to $50 million (USD)\n",
        "  - $10+ billion (USD)\n",
        "  - Less than $1 million (USD)\n",
        "  \"\"\"\n",
        "  if pd.isna(revenue) or \"unknown\" in revenue.lower():\n",
        "    return pd.NA\n",
        "  elif \"to\" in revenue:\n",
        "    elements = revenue.split()\n",
        "    if len(elements) == 5:\n",
        "      num1 = int(elements[0][1:])\n",
        "      num2 = int(elements[2][1:])\n",
        "      if \"million\" in revenue:\n",
        "        num1, num2 = 1e-3*num1, 1e-3*num2\n",
        "    else:\n",
        "      num1 = int(elements[0][1:])*1e-3\n",
        "      num2 = int(elements[3][1:])\n",
        "\n",
        "    return (num1+num2)/2\n",
        "  elif revenue == \"$10+ billion (USD)\":\n",
        "    return 10\n",
        "  elif revenue == \"Less than $1 million (USD)\":\n",
        "    return 0.001\n",
        "\n",
        "#df[\"Revenue\"].value_counts()\n",
        "df[\"revenue_avr\"] = df[\"Revenue\"].apply(get_revenue)\n",
        "df[\"revenue_avr\"].value_counts()"
      ],
      "metadata": {
        "colab": {
          "base_uri": "https://localhost:8080/"
        },
        "id": "Kyx3c8JzuiCl",
        "outputId": "23bb65f3-848a-4e9f-af50-4a95b7e756ef"
      },
      "execution_count": null,
      "outputs": [
        {
          "output_type": "execute_result",
          "data": {
            "text/plain": [
              "10.0000    124\n",
              "0.3000      91\n",
              "1.5000      60\n",
              "0.7500      57\n",
              "0.0750      46\n",
              "0.0375      40\n",
              "3.5000      39\n",
              "0.0175      32\n",
              "7.5000      19\n",
              "0.0075      18\n",
              "0.0030       8\n",
              "0.0010       4\n",
              "Name: revenue_avr, dtype: int64"
            ]
          },
          "metadata": {},
          "execution_count": 20
        }
      ]
    },
    {
      "cell_type": "code",
      "source": [
        "df.columns"
      ],
      "metadata": {
        "colab": {
          "base_uri": "https://localhost:8080/"
        },
        "id": "W2rE0hsJw9in",
        "outputId": "ec852a32-d89b-4e31-82f5-77761983d9d0"
      },
      "execution_count": null,
      "outputs": [
        {
          "output_type": "execute_result",
          "data": {
            "text/plain": [
              "Index(['Job Title', 'Salary Estimate', 'Job Description', 'Rating',\n",
              "       'Company Name', 'Location', 'Headquarters', 'Size', 'Founded',\n",
              "       'Type of ownership', 'Industry', 'Sector', 'Revenue', 'Competitors',\n",
              "       'hourly', 'min_salary', 'max_salary', 'avr_salary', 'company_txt',\n",
              "       'age', 'job_state', 'same_state', 'python_yn', 'R_yn', 'sql_yn',\n",
              "       'excel_yn', 'job_title', 'seniority', 'desc_len', 'num_comp',\n",
              "       'employees_num', 'revenue_avr'],\n",
              "      dtype='object')"
            ]
          },
          "metadata": {},
          "execution_count": 21
        }
      ]
    },
    {
      "cell_type": "code",
      "source": [
        "# upload cleaned data\n",
        "columns = ['Location', 'Headquarters', 'Type of ownership', 'Industry', \"Rating\",\n",
        "           'Sector', \"Job Description\", 'hourly', 'min_salary', 'max_salary', 'avr_salary', 'company_txt',\n",
        "           'age', 'job_state', 'same_state', 'python_yn', 'R_yn', 'sql_yn',\n",
        "           'excel_yn', 'job_title', 'seniority', 'desc_len', 'num_comp',\n",
        "           'employees_num', 'revenue_avr']\n",
        "\n",
        "df = df[columns]\n",
        "df.to_csv(\"glassdoor_jobs_cleaned.csv\", index=False)"
      ],
      "metadata": {
        "id": "bKoHA3hFitdI"
      },
      "execution_count": null,
      "outputs": []
    },
    {
      "cell_type": "code",
      "source": [],
      "metadata": {
        "id": "n_-SRrKPucIF"
      },
      "execution_count": null,
      "outputs": []
    },
    {
      "cell_type": "code",
      "source": [],
      "metadata": {
        "id": "2XRMsr7Sxh2k"
      },
      "execution_count": null,
      "outputs": []
    }
  ]
}